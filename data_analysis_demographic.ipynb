{
  "nbformat": 4,
  "nbformat_minor": 0,
  "metadata": {
    "colab": {
      "provenance": []
    },
    "kernelspec": {
      "name": "python3",
      "display_name": "Python 3"
    },
    "language_info": {
      "name": "python"
    }
  },
  "cells": [
    {
      "cell_type": "code",
      "execution_count": 1,
      "metadata": {
        "id": "HDmayD8JKMCz"
      },
      "outputs": [],
      "source": [
        "import pandas as pd"
      ]
    },
    {
      "cell_type": "code",
      "source": [
        "df = pd.read_csv('/content/Feature plus demographic data - SCENE 1.csv')"
      ],
      "metadata": {
        "id": "fIdYC6rVKUzm"
      },
      "execution_count": 2,
      "outputs": []
    },
    {
      "cell_type": "code",
      "source": [
        "df = df.drop('Unnamed: 0', axis=1)"
      ],
      "metadata": {
        "id": "rbacOg23KYml"
      },
      "execution_count": 6,
      "outputs": []
    },
    {
      "cell_type": "code",
      "source": [
        "df = df.drop('Unnamed: 0.1', axis=1)"
      ],
      "metadata": {
        "id": "YYkIC7cJYBwR"
      },
      "execution_count": 7,
      "outputs": []
    },
    {
      "cell_type": "code",
      "source": [
        "df"
      ],
      "metadata": {
        "id": "I6ZTa1lwYlgC"
      },
      "execution_count": null,
      "outputs": []
    },
    {
      "cell_type": "code",
      "source": [
        "df_female = df[df['Gender']=='Female']\n",
        "df_male = df[df['Gender']=='Male']"
      ],
      "metadata": {
        "id": "AIzhG0cvLXSd"
      },
      "execution_count": 13,
      "outputs": []
    },
    {
      "cell_type": "code",
      "source": [
        "df_female['mean_time'].plot(kind='hist')"
      ],
      "metadata": {
        "id": "Nq2odDVYZj_f"
      },
      "execution_count": null,
      "outputs": []
    },
    {
      "cell_type": "code",
      "source": [
        "df_male['mean_time'].plot(kind='hist')"
      ],
      "metadata": {
        "id": "85WEuelpZqqX"
      },
      "execution_count": null,
      "outputs": []
    },
    {
      "cell_type": "code",
      "source": [
        "from scipy import stats\n",
        "from statistics import variance\n",
        "import numpy as np\n",
        "\n",
        "range = np.random.default_rng()"
      ],
      "metadata": {
        "id": "IhbRK1_9aWFl"
      },
      "execution_count": 24,
      "outputs": []
    },
    {
      "cell_type": "code",
      "source": [
        "def stat_sig(feature):  \n",
        "  a = df_male[feature]\n",
        "  b = df_female[feature]\n",
        "\n",
        "\n",
        "  return stats.ttest_ind(a, b, permutations=49999, random_state=range)"
      ],
      "metadata": {
        "id": "B32X9Bq6aoKp"
      },
      "execution_count": 92,
      "outputs": []
    },
    {
      "cell_type": "code",
      "source": [
        "stat_sig('article').pvalue"
      ],
      "metadata": {
        "id": "Bo22VrkqfJCb"
      },
      "execution_count": null,
      "outputs": []
    },
    {
      "cell_type": "code",
      "source": [
        "def find_obs():\n",
        "  features = []\n",
        "  temp = (df.iloc[:, :141])\n",
        "  for keys in temp.keys():\n",
        "    print(keys)\n",
        "    if stat_sig(keys).pvalue < 0.1:\n",
        "      features.append(keys)\n",
        "  \n",
        "  return features"
      ],
      "metadata": {
        "id": "kpjl-lqXdbEM"
      },
      "execution_count": 74,
      "outputs": []
    },
    {
      "cell_type": "code",
      "source": [
        "feat = find_obs()"
      ],
      "metadata": {
        "id": "TyHIg-sAfhb8"
      },
      "execution_count": null,
      "outputs": []
    },
    {
      "cell_type": "code",
      "source": [
        "def greater(feature):\n",
        "  if df_male[feature].describe()['mean'] < df_female[feature].describe()['mean']:\n",
        "    return 'Female'\n",
        "  else:\n",
        "    return 'Male'"
      ],
      "metadata": {
        "id": "u3x2mtdWiHR2"
      },
      "execution_count": 84,
      "outputs": []
    },
    {
      "cell_type": "code",
      "source": [
        "for each_key in feat:\n",
        "  y[each_key] = greater(each_key)\n"
      ],
      "metadata": {
        "id": "PWya9u5cgdc6"
      },
      "execution_count": 90,
      "outputs": []
    },
    {
      "cell_type": "markdown",
      "source": [],
      "metadata": {
        "id": "eGsng8c3bGfd"
      }
    },
    {
      "cell_type": "code",
      "source": [
        "y"
      ],
      "metadata": {
        "id": "bkuGM7qHjcGC"
      },
      "execution_count": null,
      "outputs": []
    },
    {
      "cell_type": "markdown",
      "source": [
        "{'unique': 'Male',\n",
        " 'max_time': 'Male',\n",
        " 'Dic': 'Female',\n",
        " 'pronoun': 'Female',\n",
        " 'ppron': 'Female',\n",
        " 'article': 'Female',\n",
        " 'number': 'Female',\n",
        " 'conj': 'Female',\n",
        " 'allnone': 'Male',\n",
        " 'insight': 'Female',\n",
        " 'discrep': 'Female',\n",
        " 'tone_pos': 'Female',\n",
        " 'tone_neg': 'Female',\n",
        " 'swear': 'Female',\n",
        " 'socbehav': 'Female',\n",
        " 'conflict': 'Female',\n",
        " 'socrefs': 'Male',\n",
        " 'male': 'Male',\n",
        " 'death': 'Female',\n",
        " 'fulfill': 'Male',\n",
        " 'motion': 'Female',\n",
        " 'space': 'Female',\n",
        " 'time': 'Female',\n",
        " 'focuspresent': 'Male',\n",
        " 'focusfuture': 'Male',\n",
        " 'netspeak': 'Male',\n",
        " 'nonflu': 'Male',\n",
        " 'filler': 'Male',\n",
        " 'AllPunc': 'Male',\n",
        " 'Exclam': 'Male',\n",
        " 'Apostro': 'Male',\n",
        " 'anticipation': 'Male',\n",
        " 'disgust': 'Male',\n",
        " 'fear': 'Male',\n",
        " 'ttr': 'Female',\n",
        " 'diversity': 'Female',\n",
        " 'herdan': 'Female',\n",
        " 'summer': 'Female',\n",
        " 'dugast': 'Female',\n",
        " 'maas': 'Male',\n",
        " 'utterances': 'Male',\n",
        " 'WC.1': 'Male'}"
      ],
      "metadata": {
        "id": "M5gPj86skprZ"
      }
    }
  ]
}